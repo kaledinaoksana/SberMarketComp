{
 "cells": [
  {
   "cell_type": "code",
   "execution_count": null,
   "metadata": {},
   "outputs": [],
   "source": [
    "import numpy as np\n",
    "import pandas as pd\n",
    "from scipy.sparse import csr_matrix\n",
    "import umap.umap_ as umap\n",
    "\n",
    "from modules import processor"
   ]
  },
  {
   "cell_type": "code",
   "execution_count": null,
   "metadata": {},
   "outputs": [],
   "source": [
    "pd.set_option('display.max_colwidth', None)"
   ]
  },
  {
   "cell_type": "code",
   "execution_count": null,
   "metadata": {},
   "outputs": [],
   "source": [
    "PATH = '/Users/kaledinaoa/data/data_sber_market_test_ml/'\n",
    "\n",
    "train_raw_data = processor.load_csv(\"train\", PATH)\n",
    "sample_sumbission = processor.load_csv(\"sample_submission\", PATH)"
   ]
  },
  {
   "cell_type": "code",
   "execution_count": null,
   "metadata": {},
   "outputs": [],
   "source": [
    "train_raw_data.head(20)\n",
    "test_df = train_raw_data.copy()"
   ]
  },
  {
   "cell_type": "code",
   "execution_count": null,
   "metadata": {},
   "outputs": [],
   "source": [
    "test_df.head()"
   ]
  },
  {
   "cell_type": "code",
   "execution_count": null,
   "metadata": {},
   "outputs": [],
   "source": [
    "# user_item_matrix\n",
    "\n",
    "user_item_matrix = pd.pivot_table(test_df, \n",
    "                                  index='user_id', columns='cart', \n",
    "                                  values='order_completed_at',\n",
    "                                  aggfunc='count', \n",
    "                                  fill_value=0\n",
    "                                 )\n",
    " \n",
    "user_item_matrix = user_item_matrix.astype(float) \n",
    "sparse_user_item = csr_matrix(user_item_matrix).tocsr()\n",
    "\n",
    "user_item_matrix.head(3)\n"
   ]
  },
  {
   "cell_type": "code",
   "execution_count": null,
   "metadata": {},
   "outputs": [],
   "source": [
    "count_unique_carts = test_df.cart.unique().shape[0]\n",
    "count_unique_users = test_df.user_id.unique().shape[0]\n",
    "\n",
    "print(\"unique users = \",count_unique_users)\n",
    "print(\"unique carts = \",count_unique_carts)"
   ]
  },
  {
   "cell_type": "markdown",
   "metadata": {},
   "source": [
    "### model ALS"
   ]
  },
  {
   "cell_type": "code",
   "execution_count": null,
   "metadata": {},
   "outputs": [],
   "source": [
    "from implicit.als import AlternatingLeastSquares\n",
    "from implicit.nearest_neighbours import bm25_weight"
   ]
  },
  {
   "cell_type": "code",
   "execution_count": null,
   "metadata": {},
   "outputs": [],
   "source": [
    "itemid_to_id, userid_to_id, id_to_itemid, id_to_userid = processor.some_ids_preparation_to_als(user_item_matrix)"
   ]
  },
  {
   "cell_type": "code",
   "execution_count": null,
   "metadata": {},
   "outputs": [],
   "source": [
    "%%time \n",
    "\n",
    "def building_model(factors):\n",
    "    model_als = AlternatingLeastSquares(factors=factors, # скрытые факторы\n",
    "                                    regularization=0.001, # регуляризация, от переобучения модели\n",
    "                                    iterations=30, \n",
    "                                    calculate_training_loss=True)\n",
    "    \n",
    "    model_als.fit(csr_matrix(user_item_matrix).tocsr(), show_progress=True)\n",
    "    return model_als\n",
    "\n",
    "model_als = building_model(10)"
   ]
  },
  {
   "cell_type": "code",
   "execution_count": null,
   "metadata": {},
   "outputs": [],
   "source": [
    "model = model_als\n",
    "\n",
    "# MODEL INFORMATION\n",
    "print('item_factors:', model.item_factors.shape)\n",
    "print('user_factors:', model.user_factors.shape)\n",
    "\n",
    "# эмбеддинги items\n",
    "item_factors=pd.DataFrame(model.item_factors)\n",
    "\n",
    "# эмбеддинги users\n",
    "user_factors=pd.DataFrame(model.user_factors)\n",
    "# user_factors.head(3)"
   ]
  },
  {
   "cell_type": "code",
   "execution_count": null,
   "metadata": {},
   "outputs": [],
   "source": [
    "reducer = umap.UMAP(n_components=2) # to 2-dimension\n",
    "umap_embeddings_users = reducer.fit_transform(user_factors)\n",
    "umap_embeddings_items = reducer.fit_transform(item_factors)"
   ]
  },
  {
   "cell_type": "code",
   "execution_count": null,
   "metadata": {},
   "outputs": [],
   "source": [
    "processor.figure_umap_embeddings(model, umap_embeddings_users, 'UMAP Visualization of User Embeddings')"
   ]
  },
  {
   "cell_type": "code",
   "execution_count": null,
   "metadata": {},
   "outputs": [],
   "source": []
  },
  {
   "cell_type": "code",
   "execution_count": null,
   "metadata": {},
   "outputs": [],
   "source": [
    "from sklearn.cluster import DBSCAN\n",
    "from sklearn.metrics.pairwise import cosine_similarity\n",
    "from modules import processor"
   ]
  },
  {
   "cell_type": "markdown",
   "metadata": {},
   "source": [
    "### test user"
   ]
  },
  {
   "cell_type": "code",
   "execution_count": null,
   "metadata": {},
   "outputs": [],
   "source": [
    "\n",
    "TEST_USER_ID = 2\n",
    "\n",
    "def reccomendation(model, n,  userid, user_item_matrix, userid_to_id):\n",
    "    recs = model.recommend(userid=userid_to_id[userid],  \n",
    "                        user_items=csr_matrix(user_item_matrix.loc[userid_to_id[TEST_USER_ID]]).tocsr(),  \n",
    "                        N=n, \n",
    "                        recalculate_user=True,\n",
    "                        filter_already_liked_items=False)\n",
    "    return recs[0]\n",
    "\n",
    "recs = reccomendation(model_als, 10, TEST_USER_ID, user_item_matrix, userid_to_id)\n",
    "recs"
   ]
  },
  {
   "cell_type": "code",
   "execution_count": null,
   "metadata": {},
   "outputs": [],
   "source": [
    "user_df = test_df[test_df[\"user_id\"]==TEST_USER_ID]"
   ]
  },
  {
   "cell_type": "code",
   "execution_count": null,
   "metadata": {},
   "outputs": [],
   "source": [
    "def calculate_counttable_by_columnname(df, column_name):\n",
    "        \"\"\"\n",
    "        Calculate a count table for a column.\n",
    "        \n",
    "        Args:\n",
    "            df (DataFrame): The DataFrame to calculate the count table for.\n",
    "            column_name (str): The name of the column to calculate the count table for.\n",
    "            \n",
    "        Returns:\n",
    "            DataFrame: The count table.\n",
    "        \"\"\"\n",
    "        counts = df[column_name].value_counts().reset_index()\n",
    "        counts.columns = [column_name, 'count']\n",
    "        counts = counts.sort_values(by='count')\n",
    "        return counts\n",
    "\n",
    "calculate_counttable_by_columnname(user_df, 'cart').sort_values(by=\"count\",ascending=False).head(5)"
   ]
  },
  {
   "cell_type": "code",
   "execution_count": null,
   "metadata": {},
   "outputs": [],
   "source": [
    "# user_df"
   ]
  },
  {
   "cell_type": "markdown",
   "metadata": {},
   "source": [
    "### reccomend"
   ]
  },
  {
   "cell_type": "code",
   "execution_count": null,
   "metadata": {},
   "outputs": [],
   "source": [
    "k = 30\n",
    "score_more = 0.99\n",
    "test_users = test_df.user_id.unique()\n",
    "test_carts = test_df.cart.unique()\n",
    "# k = test_carts.shape[0]\n"
   ]
  },
  {
   "cell_type": "code",
   "execution_count": null,
   "metadata": {},
   "outputs": [],
   "source": [
    "def calculate_recommendations_for_user(userid, model, k, user_item_matrix=user_item_matrix, userid_to_id=userid_to_id):\n",
    "\n",
    "    def reccomendation(model, n,  userid, user_item_matrix, userid_to_id):\n",
    "        ids, scores = model.recommend(userid=userid_to_id[userid],  \n",
    "                            user_items=csr_matrix(user_item_matrix.loc[userid_to_id[userid]]).tocsr(),  \n",
    "                            N=n, \n",
    "                            recalculate_user=True,\n",
    "                            filter_already_liked_items=False)\n",
    "        return ids, scores\n",
    "    \n",
    "    return reccomendation(model, k, userid, user_item_matrix, userid_to_id)\n"
   ]
  },
  {
   "cell_type": "code",
   "execution_count": null,
   "metadata": {},
   "outputs": [],
   "source": [
    "userid = 1\n",
    "\n",
    "ids, scores = calculate_recommendations_for_user(userid, model, k)\n",
    "\n",
    "test_results = pd.DataFrame(columns=['user_id','cart_id','target'])\n",
    "\n",
    "for userid in [userid]:\n",
    "\n",
    "    ids, scores = calculate_recommendations_for_user(userid, model, k)\n",
    "\n",
    "    for i in range(k):\n",
    "    test_results=pd.concat([pd.DataFrame([\n",
    "            {   \n",
    "                'user_id': userid, \n",
    "                'cart_id': cart_id, \n",
    "                'target': target\n",
    "            }]),\n",
    "            test_results],ignore_index=True)"
   ]
  },
  {
   "cell_type": "code",
   "execution_count": null,
   "metadata": {},
   "outputs": [],
   "source": [
    "ids"
   ]
  },
  {
   "cell_type": "code",
   "execution_count": null,
   "metadata": {},
   "outputs": [],
   "source": [
    "scores"
   ]
  },
  {
   "cell_type": "code",
   "execution_count": null,
   "metadata": {},
   "outputs": [],
   "source": []
  },
  {
   "cell_type": "code",
   "execution_count": null,
   "metadata": {},
   "outputs": [],
   "source": []
  },
  {
   "cell_type": "markdown",
   "metadata": {},
   "source": [
    "## submit df"
   ]
  },
  {
   "cell_type": "code",
   "execution_count": null,
   "metadata": {},
   "outputs": [],
   "source": [
    "submit_df = sample_sumbission.copy()\n",
    "\n",
    "# Разделить каждую ячейку в колонке на два столбца\n",
    "submit_df[['user_id', 'cart_id']] = submit_df['id'].str.split(';', expand=True)\n",
    "submit_df['user_id'] = submit_df['user_id'].astype(int)\n",
    "submit_df['cart_id'] = submit_df['cart_id'].astype(int)"
   ]
  },
  {
   "cell_type": "code",
   "execution_count": null,
   "metadata": {},
   "outputs": [],
   "source": [
    "submit_df.head(2)"
   ]
  },
  {
   "cell_type": "code",
   "execution_count": null,
   "metadata": {},
   "outputs": [],
   "source": [
    "# create reccomended df\n",
    "\n",
    "def create_and_save_df_of_reccomended_lists(submit_df):\n",
    "\n",
    "    users_for_predictions = submit_df.user_id.unique()\n",
    "    cart_user = submit_df[['user_id', 'cart_id']]\n",
    "\n",
    "    list_of_carts = pd.DataFrame(columns=['user_id','carts'])\n",
    "\n",
    "    for userid in users_for_predictions:\n",
    "        \n",
    "        carts = cart_user[cart_user[\"user_id\"]==userid].cart_id.to_list()\n",
    "\n",
    "        list_of_carts=pd.concat([pd.DataFrame([\n",
    "                {   \n",
    "                    'user_id': userid, \n",
    "                    'carts': carts\n",
    "                }]),\n",
    "                list_of_carts],ignore_index=True)\n",
    "        \n",
    "    lists_rec = list_of_carts.sort_values(by='user_id').reset_index(drop=True)\n",
    "    lists_rec.to_csv('lists_rec.csv', encoding='utf-8')\n",
    "    return lists_rec\n",
    "\n",
    "# lists_rec = create_and_save_df_of_reccomended_lists(submit_df)\n",
    "lists_rec = pd.read_csv('lists_rec.csv', encoding='utf-8')\n",
    "lists_rec.drop(columns=['Unnamed: 0'], inplace=True)\n",
    "lists_rec.set_index('user_id', inplace=True)"
   ]
  },
  {
   "cell_type": "code",
   "execution_count": null,
   "metadata": {},
   "outputs": [],
   "source": [
    "lists_rec.head(5)"
   ]
  },
  {
   "cell_type": "code",
   "execution_count": null,
   "metadata": {},
   "outputs": [],
   "source": [
    "def calculate_recommendations_for_user(userid, model, k, user_item_matrix=user_item_matrix, userid_to_id=userid_to_id):\n",
    "\n",
    "    def reccomendation(model, n,  userid, user_item_matrix, userid_to_id):\n",
    "        ids, scores = model.recommend(userid=userid_to_id[userid],  \n",
    "                            user_items=csr_matrix(user_item_matrix.loc[userid_to_id[userid]]).tocsr(),  \n",
    "                            N=n, \n",
    "                            recalculate_user=True,\n",
    "                            filter_already_liked_items=False)\n",
    "        return ids, scores\n",
    "    \n",
    "    return reccomendation(model, k, userid, user_item_matrix, userid_to_id)\n"
   ]
  },
  {
   "cell_type": "code",
   "execution_count": null,
   "metadata": {},
   "outputs": [],
   "source": [
    "carts_value = lists_rec.loc[0, 'carts']\n",
    "carts_list = eval(carts_value)\n",
    "# carts_list\n",
    "# eval(lists_rec.loc[0, 'carts'])"
   ]
  },
  {
   "cell_type": "code",
   "execution_count": null,
   "metadata": {},
   "outputs": [],
   "source": [
    "# users_ids = lists_rec[\"user_id\"].unique()\n",
    "\n",
    "users_ids = [0]\n",
    "score_level = 0.7\n",
    "\n",
    "df_test_results = pd.DataFrame(columns=['user_id','cart_id','target'])\n",
    "\n",
    "\n",
    "def concat_to_df(df, userid, cartid, target):\n",
    "    df=pd.concat([pd.DataFrame([\n",
    "                    {   \n",
    "                        'user_id': userid, \n",
    "                        'cart_id': cartid, \n",
    "                        'target': target\n",
    "                    }]),\n",
    "                    df],ignore_index=True)\n",
    "    return df\n",
    "\n",
    "for userid in users_ids:\n",
    "\n",
    "    target = 0\n",
    "\n",
    "    unique_cart_items = test_df[test_df[\"user_id\"]==userid][\"cart\"].unique().tolist()\n",
    "    k = len(unique_cart_items)\n",
    "    carts_for_recs = eval(lists_rec.loc[userid, 'carts'])\n",
    "\n",
    "    ids, scores = calculate_recommendations_for_user(userid, model, k)\n",
    "    ids = ids.tolist()\n",
    "    recs_for_user = pd.DataFrame({'score': scores}, index=ids)\n",
    "\n",
    "    for cart in carts_for_recs:\n",
    "\n",
    "        if cart in ids:\n",
    "            score = float(recs_for_user.loc[cart,'score'])\n",
    "\n",
    "            if score > score_level:\n",
    "                target = 1\n",
    "            else:\n",
    "                terget = 0\n",
    "        \n",
    "            df_test_results=concat_to_df(df_test_results, userid, cart, target)\n",
    "\n",
    "        else:\n",
    "            target = 0\n",
    "            df_test_results=concat_to_df(df_test_results, userid, cart, target)"
   ]
  },
  {
   "cell_type": "code",
   "execution_count": null,
   "metadata": {},
   "outputs": [],
   "source": [
    "df_test_results.head(30)"
   ]
  },
  {
   "cell_type": "code",
   "execution_count": null,
   "metadata": {},
   "outputs": [],
   "source": []
  }
 ],
 "metadata": {
  "kernelspec": {
   "display_name": "Python 3",
   "language": "python",
   "name": "python3"
  },
  "language_info": {
   "codemirror_mode": {
    "name": "ipython",
    "version": 3
   },
   "file_extension": ".py",
   "mimetype": "text/x-python",
   "name": "python",
   "nbconvert_exporter": "python",
   "pygments_lexer": "ipython3",
   "version": "3.11.4"
  }
 },
 "nbformat": 4,
 "nbformat_minor": 2
}
